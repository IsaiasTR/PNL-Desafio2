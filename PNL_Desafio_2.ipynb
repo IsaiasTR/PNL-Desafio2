{
  "nbformat": 4,
  "nbformat_minor": 0,
  "metadata": {
    "colab": {
      "provenance": []
    },
    "kernelspec": {
      "name": "python3",
      "display_name": "Python 3"
    },
    "language_info": {
      "name": "python"
    }
  },
  "cells": [
    {
      "cell_type": "markdown",
      "source": [
        "**Alumno: Isaias Eleuterio Tenorio Retis**"
      ],
      "metadata": {
        "id": "voXZkkbc4zW4"
      }
    },
    {
      "cell_type": "markdown",
      "source": [
        "**Desafio 2**"
      ],
      "metadata": {
        "id": "l0WZEEvc47wa"
      }
    },
    {
      "cell_type": "markdown",
      "source": [
        "**Crear sus propios vectores con Gensim basado en lo visto en clases con otro dataset. probar términos de interés y explicar similitudes en el espacio de embedding. Intentar plantear y probar tests de analogías. graficar los embeddings resultantes y sacar conclusiones**"
      ],
      "metadata": {
        "id": "m_OBFFco4-sf"
      }
    },
    {
      "cell_type": "markdown",
      "source": [
        "Importamos las librerias necesarias"
      ],
      "metadata": {
        "id": "RJssYIJp6FzS"
      }
    },
    {
      "cell_type": "code",
      "source": [
        "import pandas as pd\n",
        "import numpy as np\n",
        "import plotly.express as px\n",
        "import multiprocessing\n",
        "from sklearn.datasets import fetch_20newsgroups\n",
        "from tensorflow.keras.preprocessing.text import text_to_word_sequence\n",
        "from gensim.models import Word2Vec\n",
        "from sklearn.decomposition import PCA\n",
        "from sklearn.manifold import TSNE"
      ],
      "metadata": {
        "id": "FeYbqwKH6L2U"
      },
      "execution_count": 5,
      "outputs": []
    },
    {
      "cell_type": "markdown",
      "source": [
        "Descargamos y cargamos el dataset"
      ],
      "metadata": {
        "id": "2iPcwqqS6Vae"
      }
    },
    {
      "cell_type": "code",
      "source": [
        "# Cargamos los datos de 20 Newsgroups\n",
        "newsgroups_data = fetch_20newsgroups(subset='all')\n",
        "# Convertimos el dataset en un DataFrame para facilitar el procesamiento\n",
        "df = pd.DataFrame({'text': newsgroups_data.data, 'target': newsgroups_data.target})\n",
        "df"
      ],
      "metadata": {
        "id": "Iy4A4srl6KmQ",
        "colab": {
          "base_uri": "https://localhost:8080/",
          "height": 423
        },
        "outputId": "32a32390-7f22-4421-b4fa-587ac59e3b19"
      },
      "execution_count": 2,
      "outputs": [
        {
          "output_type": "execute_result",
          "data": {
            "text/plain": [
              "                                                    text  target\n",
              "0      From: Mamatha Devineni Ratnam <mr47+@andrew.cm...      10\n",
              "1      From: mblawson@midway.ecn.uoknor.edu (Matthew ...       3\n",
              "2      From: hilmi-er@dsv.su.se (Hilmi Eren)\\nSubject...      17\n",
              "3      From: guyd@austin.ibm.com (Guy Dawson)\\nSubjec...       3\n",
              "4      From: Alexander Samuel McDiarmid <am2o+@andrew...       4\n",
              "...                                                  ...     ...\n",
              "18841  From: jim.zisfein@factory.com (Jim Zisfein) \\n...      13\n",
              "18842  From: rdell@cbnewsf.cb.att.com (richard.b.dell...      12\n",
              "18843  From: westes@netcom.com (Will Estes)\\nSubject:...       3\n",
              "18844  From: steve@hcrlgw (Steven Collins)\\nSubject: ...       1\n",
              "18845  From: chriss@netcom.com (Chris Silvester)\\nSub...       7\n",
              "\n",
              "[18846 rows x 2 columns]"
            ],
            "text/html": [
              "\n",
              "  <div id=\"df-10fd369d-0ce1-4c0e-bd20-09b68695fbfe\" class=\"colab-df-container\">\n",
              "    <div>\n",
              "<style scoped>\n",
              "    .dataframe tbody tr th:only-of-type {\n",
              "        vertical-align: middle;\n",
              "    }\n",
              "\n",
              "    .dataframe tbody tr th {\n",
              "        vertical-align: top;\n",
              "    }\n",
              "\n",
              "    .dataframe thead th {\n",
              "        text-align: right;\n",
              "    }\n",
              "</style>\n",
              "<table border=\"1\" class=\"dataframe\">\n",
              "  <thead>\n",
              "    <tr style=\"text-align: right;\">\n",
              "      <th></th>\n",
              "      <th>text</th>\n",
              "      <th>target</th>\n",
              "    </tr>\n",
              "  </thead>\n",
              "  <tbody>\n",
              "    <tr>\n",
              "      <th>0</th>\n",
              "      <td>From: Mamatha Devineni Ratnam &lt;mr47+@andrew.cm...</td>\n",
              "      <td>10</td>\n",
              "    </tr>\n",
              "    <tr>\n",
              "      <th>1</th>\n",
              "      <td>From: mblawson@midway.ecn.uoknor.edu (Matthew ...</td>\n",
              "      <td>3</td>\n",
              "    </tr>\n",
              "    <tr>\n",
              "      <th>2</th>\n",
              "      <td>From: hilmi-er@dsv.su.se (Hilmi Eren)\\nSubject...</td>\n",
              "      <td>17</td>\n",
              "    </tr>\n",
              "    <tr>\n",
              "      <th>3</th>\n",
              "      <td>From: guyd@austin.ibm.com (Guy Dawson)\\nSubjec...</td>\n",
              "      <td>3</td>\n",
              "    </tr>\n",
              "    <tr>\n",
              "      <th>4</th>\n",
              "      <td>From: Alexander Samuel McDiarmid &lt;am2o+@andrew...</td>\n",
              "      <td>4</td>\n",
              "    </tr>\n",
              "    <tr>\n",
              "      <th>...</th>\n",
              "      <td>...</td>\n",
              "      <td>...</td>\n",
              "    </tr>\n",
              "    <tr>\n",
              "      <th>18841</th>\n",
              "      <td>From: jim.zisfein@factory.com (Jim Zisfein) \\n...</td>\n",
              "      <td>13</td>\n",
              "    </tr>\n",
              "    <tr>\n",
              "      <th>18842</th>\n",
              "      <td>From: rdell@cbnewsf.cb.att.com (richard.b.dell...</td>\n",
              "      <td>12</td>\n",
              "    </tr>\n",
              "    <tr>\n",
              "      <th>18843</th>\n",
              "      <td>From: westes@netcom.com (Will Estes)\\nSubject:...</td>\n",
              "      <td>3</td>\n",
              "    </tr>\n",
              "    <tr>\n",
              "      <th>18844</th>\n",
              "      <td>From: steve@hcrlgw (Steven Collins)\\nSubject: ...</td>\n",
              "      <td>1</td>\n",
              "    </tr>\n",
              "    <tr>\n",
              "      <th>18845</th>\n",
              "      <td>From: chriss@netcom.com (Chris Silvester)\\nSub...</td>\n",
              "      <td>7</td>\n",
              "    </tr>\n",
              "  </tbody>\n",
              "</table>\n",
              "<p>18846 rows × 2 columns</p>\n",
              "</div>\n",
              "    <div class=\"colab-df-buttons\">\n",
              "\n",
              "  <div class=\"colab-df-container\">\n",
              "    <button class=\"colab-df-convert\" onclick=\"convertToInteractive('df-10fd369d-0ce1-4c0e-bd20-09b68695fbfe')\"\n",
              "            title=\"Convert this dataframe to an interactive table.\"\n",
              "            style=\"display:none;\">\n",
              "\n",
              "  <svg xmlns=\"http://www.w3.org/2000/svg\" height=\"24px\" viewBox=\"0 -960 960 960\">\n",
              "    <path d=\"M120-120v-720h720v720H120Zm60-500h600v-160H180v160Zm220 220h160v-160H400v160Zm0 220h160v-160H400v160ZM180-400h160v-160H180v160Zm440 0h160v-160H620v160ZM180-180h160v-160H180v160Zm440 0h160v-160H620v160Z\"/>\n",
              "  </svg>\n",
              "    </button>\n",
              "\n",
              "  <style>\n",
              "    .colab-df-container {\n",
              "      display:flex;\n",
              "      gap: 12px;\n",
              "    }\n",
              "\n",
              "    .colab-df-convert {\n",
              "      background-color: #E8F0FE;\n",
              "      border: none;\n",
              "      border-radius: 50%;\n",
              "      cursor: pointer;\n",
              "      display: none;\n",
              "      fill: #1967D2;\n",
              "      height: 32px;\n",
              "      padding: 0 0 0 0;\n",
              "      width: 32px;\n",
              "    }\n",
              "\n",
              "    .colab-df-convert:hover {\n",
              "      background-color: #E2EBFA;\n",
              "      box-shadow: 0px 1px 2px rgba(60, 64, 67, 0.3), 0px 1px 3px 1px rgba(60, 64, 67, 0.15);\n",
              "      fill: #174EA6;\n",
              "    }\n",
              "\n",
              "    .colab-df-buttons div {\n",
              "      margin-bottom: 4px;\n",
              "    }\n",
              "\n",
              "    [theme=dark] .colab-df-convert {\n",
              "      background-color: #3B4455;\n",
              "      fill: #D2E3FC;\n",
              "    }\n",
              "\n",
              "    [theme=dark] .colab-df-convert:hover {\n",
              "      background-color: #434B5C;\n",
              "      box-shadow: 0px 1px 3px 1px rgba(0, 0, 0, 0.15);\n",
              "      filter: drop-shadow(0px 1px 2px rgba(0, 0, 0, 0.3));\n",
              "      fill: #FFFFFF;\n",
              "    }\n",
              "  </style>\n",
              "\n",
              "    <script>\n",
              "      const buttonEl =\n",
              "        document.querySelector('#df-10fd369d-0ce1-4c0e-bd20-09b68695fbfe button.colab-df-convert');\n",
              "      buttonEl.style.display =\n",
              "        google.colab.kernel.accessAllowed ? 'block' : 'none';\n",
              "\n",
              "      async function convertToInteractive(key) {\n",
              "        const element = document.querySelector('#df-10fd369d-0ce1-4c0e-bd20-09b68695fbfe');\n",
              "        const dataTable =\n",
              "          await google.colab.kernel.invokeFunction('convertToInteractive',\n",
              "                                                    [key], {});\n",
              "        if (!dataTable) return;\n",
              "\n",
              "        const docLinkHtml = 'Like what you see? Visit the ' +\n",
              "          '<a target=\"_blank\" href=https://colab.research.google.com/notebooks/data_table.ipynb>data table notebook</a>'\n",
              "          + ' to learn more about interactive tables.';\n",
              "        element.innerHTML = '';\n",
              "        dataTable['output_type'] = 'display_data';\n",
              "        await google.colab.output.renderOutput(dataTable, element);\n",
              "        const docLink = document.createElement('div');\n",
              "        docLink.innerHTML = docLinkHtml;\n",
              "        element.appendChild(docLink);\n",
              "      }\n",
              "    </script>\n",
              "  </div>\n",
              "\n",
              "\n",
              "<div id=\"df-87fc4333-e65a-48c3-990e-130ad2d0d8bf\">\n",
              "  <button class=\"colab-df-quickchart\" onclick=\"quickchart('df-87fc4333-e65a-48c3-990e-130ad2d0d8bf')\"\n",
              "            title=\"Suggest charts\"\n",
              "            style=\"display:none;\">\n",
              "\n",
              "<svg xmlns=\"http://www.w3.org/2000/svg\" height=\"24px\"viewBox=\"0 0 24 24\"\n",
              "     width=\"24px\">\n",
              "    <g>\n",
              "        <path d=\"M19 3H5c-1.1 0-2 .9-2 2v14c0 1.1.9 2 2 2h14c1.1 0 2-.9 2-2V5c0-1.1-.9-2-2-2zM9 17H7v-7h2v7zm4 0h-2V7h2v10zm4 0h-2v-4h2v4z\"/>\n",
              "    </g>\n",
              "</svg>\n",
              "  </button>\n",
              "\n",
              "<style>\n",
              "  .colab-df-quickchart {\n",
              "      --bg-color: #E8F0FE;\n",
              "      --fill-color: #1967D2;\n",
              "      --hover-bg-color: #E2EBFA;\n",
              "      --hover-fill-color: #174EA6;\n",
              "      --disabled-fill-color: #AAA;\n",
              "      --disabled-bg-color: #DDD;\n",
              "  }\n",
              "\n",
              "  [theme=dark] .colab-df-quickchart {\n",
              "      --bg-color: #3B4455;\n",
              "      --fill-color: #D2E3FC;\n",
              "      --hover-bg-color: #434B5C;\n",
              "      --hover-fill-color: #FFFFFF;\n",
              "      --disabled-bg-color: #3B4455;\n",
              "      --disabled-fill-color: #666;\n",
              "  }\n",
              "\n",
              "  .colab-df-quickchart {\n",
              "    background-color: var(--bg-color);\n",
              "    border: none;\n",
              "    border-radius: 50%;\n",
              "    cursor: pointer;\n",
              "    display: none;\n",
              "    fill: var(--fill-color);\n",
              "    height: 32px;\n",
              "    padding: 0;\n",
              "    width: 32px;\n",
              "  }\n",
              "\n",
              "  .colab-df-quickchart:hover {\n",
              "    background-color: var(--hover-bg-color);\n",
              "    box-shadow: 0 1px 2px rgba(60, 64, 67, 0.3), 0 1px 3px 1px rgba(60, 64, 67, 0.15);\n",
              "    fill: var(--button-hover-fill-color);\n",
              "  }\n",
              "\n",
              "  .colab-df-quickchart-complete:disabled,\n",
              "  .colab-df-quickchart-complete:disabled:hover {\n",
              "    background-color: var(--disabled-bg-color);\n",
              "    fill: var(--disabled-fill-color);\n",
              "    box-shadow: none;\n",
              "  }\n",
              "\n",
              "  .colab-df-spinner {\n",
              "    border: 2px solid var(--fill-color);\n",
              "    border-color: transparent;\n",
              "    border-bottom-color: var(--fill-color);\n",
              "    animation:\n",
              "      spin 1s steps(1) infinite;\n",
              "  }\n",
              "\n",
              "  @keyframes spin {\n",
              "    0% {\n",
              "      border-color: transparent;\n",
              "      border-bottom-color: var(--fill-color);\n",
              "      border-left-color: var(--fill-color);\n",
              "    }\n",
              "    20% {\n",
              "      border-color: transparent;\n",
              "      border-left-color: var(--fill-color);\n",
              "      border-top-color: var(--fill-color);\n",
              "    }\n",
              "    30% {\n",
              "      border-color: transparent;\n",
              "      border-left-color: var(--fill-color);\n",
              "      border-top-color: var(--fill-color);\n",
              "      border-right-color: var(--fill-color);\n",
              "    }\n",
              "    40% {\n",
              "      border-color: transparent;\n",
              "      border-right-color: var(--fill-color);\n",
              "      border-top-color: var(--fill-color);\n",
              "    }\n",
              "    60% {\n",
              "      border-color: transparent;\n",
              "      border-right-color: var(--fill-color);\n",
              "    }\n",
              "    80% {\n",
              "      border-color: transparent;\n",
              "      border-right-color: var(--fill-color);\n",
              "      border-bottom-color: var(--fill-color);\n",
              "    }\n",
              "    90% {\n",
              "      border-color: transparent;\n",
              "      border-bottom-color: var(--fill-color);\n",
              "    }\n",
              "  }\n",
              "</style>\n",
              "\n",
              "  <script>\n",
              "    async function quickchart(key) {\n",
              "      const quickchartButtonEl =\n",
              "        document.querySelector('#' + key + ' button');\n",
              "      quickchartButtonEl.disabled = true;  // To prevent multiple clicks.\n",
              "      quickchartButtonEl.classList.add('colab-df-spinner');\n",
              "      try {\n",
              "        const charts = await google.colab.kernel.invokeFunction(\n",
              "            'suggestCharts', [key], {});\n",
              "      } catch (error) {\n",
              "        console.error('Error during call to suggestCharts:', error);\n",
              "      }\n",
              "      quickchartButtonEl.classList.remove('colab-df-spinner');\n",
              "      quickchartButtonEl.classList.add('colab-df-quickchart-complete');\n",
              "    }\n",
              "    (() => {\n",
              "      let quickchartButtonEl =\n",
              "        document.querySelector('#df-87fc4333-e65a-48c3-990e-130ad2d0d8bf button');\n",
              "      quickchartButtonEl.style.display =\n",
              "        google.colab.kernel.accessAllowed ? 'block' : 'none';\n",
              "    })();\n",
              "  </script>\n",
              "</div>\n",
              "\n",
              "  <div id=\"id_85baac10-b62b-4aa2-bdff-c920b238f7fd\">\n",
              "    <style>\n",
              "      .colab-df-generate {\n",
              "        background-color: #E8F0FE;\n",
              "        border: none;\n",
              "        border-radius: 50%;\n",
              "        cursor: pointer;\n",
              "        display: none;\n",
              "        fill: #1967D2;\n",
              "        height: 32px;\n",
              "        padding: 0 0 0 0;\n",
              "        width: 32px;\n",
              "      }\n",
              "\n",
              "      .colab-df-generate:hover {\n",
              "        background-color: #E2EBFA;\n",
              "        box-shadow: 0px 1px 2px rgba(60, 64, 67, 0.3), 0px 1px 3px 1px rgba(60, 64, 67, 0.15);\n",
              "        fill: #174EA6;\n",
              "      }\n",
              "\n",
              "      [theme=dark] .colab-df-generate {\n",
              "        background-color: #3B4455;\n",
              "        fill: #D2E3FC;\n",
              "      }\n",
              "\n",
              "      [theme=dark] .colab-df-generate:hover {\n",
              "        background-color: #434B5C;\n",
              "        box-shadow: 0px 1px 3px 1px rgba(0, 0, 0, 0.15);\n",
              "        filter: drop-shadow(0px 1px 2px rgba(0, 0, 0, 0.3));\n",
              "        fill: #FFFFFF;\n",
              "      }\n",
              "    </style>\n",
              "    <button class=\"colab-df-generate\" onclick=\"generateWithVariable('df')\"\n",
              "            title=\"Generate code using this dataframe.\"\n",
              "            style=\"display:none;\">\n",
              "\n",
              "  <svg xmlns=\"http://www.w3.org/2000/svg\" height=\"24px\"viewBox=\"0 0 24 24\"\n",
              "       width=\"24px\">\n",
              "    <path d=\"M7,19H8.4L18.45,9,17,7.55,7,17.6ZM5,21V16.75L18.45,3.32a2,2,0,0,1,2.83,0l1.4,1.43a1.91,1.91,0,0,1,.58,1.4,1.91,1.91,0,0,1-.58,1.4L9.25,21ZM18.45,9,17,7.55Zm-12,3A5.31,5.31,0,0,0,4.9,8.1,5.31,5.31,0,0,0,1,6.5,5.31,5.31,0,0,0,4.9,4.9,5.31,5.31,0,0,0,6.5,1,5.31,5.31,0,0,0,8.1,4.9,5.31,5.31,0,0,0,12,6.5,5.46,5.46,0,0,0,6.5,12Z\"/>\n",
              "  </svg>\n",
              "    </button>\n",
              "    <script>\n",
              "      (() => {\n",
              "      const buttonEl =\n",
              "        document.querySelector('#id_85baac10-b62b-4aa2-bdff-c920b238f7fd button.colab-df-generate');\n",
              "      buttonEl.style.display =\n",
              "        google.colab.kernel.accessAllowed ? 'block' : 'none';\n",
              "\n",
              "      buttonEl.onclick = () => {\n",
              "        google.colab.notebook.generateWithVariable('df');\n",
              "      }\n",
              "      })();\n",
              "    </script>\n",
              "  </div>\n",
              "\n",
              "    </div>\n",
              "  </div>\n"
            ],
            "application/vnd.google.colaboratory.intrinsic+json": {
              "type": "dataframe",
              "variable_name": "df",
              "summary": "{\n  \"name\": \"df\",\n  \"rows\": 18846,\n  \"fields\": [\n    {\n      \"column\": \"text\",\n      \"properties\": {\n        \"dtype\": \"string\",\n        \"num_unique_values\": 18846,\n        \"samples\": [\n          \"From: shippert@cco.caltech.edu (Tim Shippert)\\nSubject: Re: Infield Fly Rule\\nOrganization: California Institute of Technology, Pasadena\\nLines: 25\\nNNTP-Posting-Host: sandman.caltech.edu\\n\\njrogoff@scott.skidmore.edu (jay rogoff) writes:\\n\\n>One last infield fly question that has always puzzled me and hasn't\\n>yet been addressed.  I believe the rule also does *not* deal with this\\n>situation:\\n\\n>However, if the Infield Fly is *not* caught, at what point can a runner\\n>legally leave his base w/o fear of being doubled off for advancing too\\n>early?  \\n\\n\\tThe runner can leave his base at any time.  If the ball is caught,\\nhe's got to tag up.  If it isn't caught, he _doesn't_ have to tag up at\\nall.  So, if he's feeling lucky, your runner at second can sprint for glory\\nas soon as the ball is popped up.  If it isn't caught, he's probably scored\\na run.  If it is, he's probably headed for AAA.  \\n\\n\\tThe only effect the infield fly has is to make the batter out,\\nthereby removing the force on the runners on base.  All other rules apply,\\nas if you were standing second with first open and the ball is popped up.\\n\\n-- \\nTim Shippert                                 shippert@cco.caltech.edu\\n\\\"If we are going to stick to this damned quantum-jumping, then I regret\\nthat I ever had anything to do with quantum theory.\\\"\\n\\t\\t\\t\\t\\t-E. Schrodinger\\n\",\n          \"From: mont@netcom.com (Mont Pierce)\\nSubject: Re: 8051 Microcontroller\\nOrganization: Netcom - Online Communication Services (408 241-9760 guest)\\nLines: 31\\n\\nIn article <1qppr5INNaqa@dns1.NMSU.Edu> mcole@spock (COLE) writes:\\n>I would like to experiment with the INTEL 8051 family.  Does anyone out  \\n>there know of any good FTP sites that might have compiliers, assemblers,  \\n>etc.?\\n\\nWell, it's not an FTP site, but I got an 800 number for Signetics BBS.\\n\\nThe Signetics BBS contain some pretty good items for the 8051.  I am\\ncurrently using the following files which I downloaded from them:\\n\\n    ml-asm51.zip      MetaLink's 8051 family macro assembler\\n    bootstrp.zip      Hex file Load-and-Go using 8051 uart\\n                      (allows you to download your program into a RAM\\n                       and then execute from RAM.  Works great.  Tell\\n                       me if you want more details).\\n    tutor51.zip       TSR for 8051 feature help screens\\n    \\nThey have lots of coding examples, assemblers, and misc. tools.\\n\\nSignetics BBS numbers are:    (800) 451-6644\\n                              (408) 991-2406\\n\\nHave fun,\\n-- \\nMont Pierce\\n\\n+-------------------------------------------------------------------------+\\n| Ham Call: KM6WT             Internet:  mont@netcom.com                  |\\n|    bands: 80/40/20/15/10/2  IBM vnet:  mont@vnet.ibm.com                |\\n|    modes: cw,ssb,fm                                                     |\\n+-------------------------------------------------------------------------+\\n\",\n          \"From: Amruth Laxman <al26+@andrew.cmu.edu>\\nSubject: Surviving Large Accelerations?\\nOrganization: Junior, Electrical and Computer Engineering, Carnegie Mellon, Pittsburgh, PA\\nLines: 16\\nNNTP-Posting-Host: po5.andrew.cmu.edu\\n\\nHi,\\n    I was reading through \\\"The Spaceflight Handbook\\\" and somewhere in\\nthere the author discusses solar sails and the forces acting on them\\nwhen and if they try to gain an initial acceleration by passing close to\\nthe sun in a hyperbolic orbit. The magnitude of such accelerations he\\nestimated to be on the order of 700g. He also says that this is may not\\nbe a big problem for manned craft because humans (and this was published\\nin 1986) have already withstood accelerations of 45g. All this is very\\nlong-winded but here's my question finally - Are 45g accelerations in\\nfact humanly tolerable? - with the aid of any mechanical devices of\\ncourse. If these are possible, what is used to absorb the acceleration?\\nCan this be extended to larger accelerations?\\n\\nThanks is advance...\\n-Amruth Laxman\\n\\n\"\n        ],\n        \"semantic_type\": \"\",\n        \"description\": \"\"\n      }\n    },\n    {\n      \"column\": \"target\",\n      \"properties\": {\n        \"dtype\": \"number\",\n        \"std\": 5,\n        \"min\": 0,\n        \"max\": 19,\n        \"num_unique_values\": 20,\n        \"samples\": [\n          10,\n          18,\n          6\n        ],\n        \"semantic_type\": \"\",\n        \"description\": \"\"\n      }\n    }\n  ]\n}"
            }
          },
          "metadata": {},
          "execution_count": 2
        }
      ]
    },
    {
      "cell_type": "markdown",
      "source": [
        "Tokenizamos el texto"
      ],
      "metadata": {
        "id": "YwGnXdFR65JS"
      }
    },
    {
      "cell_type": "code",
      "source": [
        "# Tokenizamos los textos\n",
        "sentence_tokens = []\n",
        "for _, row in df.iterrows():\n",
        "    sentence_tokens.append(text_to_word_sequence(row['text']))\n",
        "# Visualizamos las primeras oraciones tokenizadas\n",
        "print(sentence_tokens[:2])"
      ],
      "metadata": {
        "colab": {
          "base_uri": "https://localhost:8080/"
        },
        "id": "zOpqXsnv7ZTH",
        "outputId": "c790daaf-cf68-4222-ea09-28bba949af4e"
      },
      "execution_count": 4,
      "outputs": [
        {
          "output_type": "stream",
          "name": "stdout",
          "text": [
            "[['from', 'mamatha', 'devineni', 'ratnam', 'mr47', 'andrew', 'cmu', 'edu', 'subject', 'pens', 'fans', 'reactions', 'organization', 'post', 'office', 'carnegie', 'mellon', 'pittsburgh', 'pa', 'lines', '12', 'nntp', 'posting', 'host', 'po4', 'andrew', 'cmu', 'edu', 'i', 'am', 'sure', 'some', 'bashers', 'of', 'pens', 'fans', 'are', 'pretty', 'confused', 'about', 'the', 'lack', 'of', 'any', 'kind', 'of', 'posts', 'about', 'the', 'recent', 'pens', 'massacre', 'of', 'the', 'devils', 'actually', 'i', 'am', 'bit', 'puzzled', 'too', 'and', 'a', 'bit', 'relieved', 'however', 'i', 'am', 'going', 'to', 'put', 'an', 'end', 'to', 'non', \"pittsburghers'\", 'relief', 'with', 'a', 'bit', 'of', 'praise', 'for', 'the', 'pens', 'man', 'they', 'are', 'killing', 'those', 'devils', 'worse', 'than', 'i', 'thought', 'jagr', 'just', 'showed', 'you', 'why', 'he', 'is', 'much', 'better', 'than', 'his', 'regular', 'season', 'stats', 'he', 'is', 'also', 'a', 'lot', 'fo', 'fun', 'to', 'watch', 'in', 'the', 'playoffs', 'bowman', 'should', 'let', 'jagr', 'have', 'a', 'lot', 'of', 'fun', 'in', 'the', 'next', 'couple', 'of', 'games', 'since', 'the', 'pens', 'are', 'going', 'to', 'beat', 'the', 'pulp', 'out', 'of', 'jersey', 'anyway', 'i', 'was', 'very', 'disappointed', 'not', 'to', 'see', 'the', 'islanders', 'lose', 'the', 'final', 'regular', 'season', 'game', 'pens', 'rule'], ['from', 'mblawson', 'midway', 'ecn', 'uoknor', 'edu', 'matthew', 'b', 'lawson', 'subject', 'which', 'high', 'performance', 'vlb', 'video', 'card', 'summary', 'seek', 'recommendations', 'for', 'vlb', 'video', 'card', 'nntp', 'posting', 'host', 'midway', 'ecn', 'uoknor', 'edu', 'organization', 'engineering', 'computer', 'network', 'university', 'of', 'oklahoma', 'norman', 'ok', 'usa', 'keywords', 'orchid', 'stealth', 'vlb', 'lines', '21', 'my', 'brother', 'is', 'in', 'the', 'market', 'for', 'a', 'high', 'performance', 'video', 'card', 'that', 'supports', 'vesa', 'local', 'bus', 'with', '1', '2mb', 'ram', 'does', 'anyone', 'have', 'suggestions', 'ideas', 'on', 'diamond', 'stealth', 'pro', 'local', 'bus', 'orchid', 'farenheit', '1280', 'ati', 'graphics', 'ultra', 'pro', 'any', 'other', 'high', 'performance', 'vlb', 'card', 'please', 'post', 'or', 'email', 'thank', 'you', 'matt', 'matthew', 'b', 'lawson', 'mblawson', 'essex', 'ecn', 'uoknor', 'edu', 'now', 'i', 'nebuchadnezzar', 'praise', 'and', 'exalt', 'and', 'glorify', 'the', 'king', 'of', 'heaven', 'because', 'everything', 'he', 'does', 'is', 'right', 'and', 'all', 'his', 'ways', 'are', 'just', 'nebuchadnezzar', 'king', 'of', 'babylon', '562', 'b', 'c']]\n"
          ]
        }
      ]
    },
    {
      "cell_type": "markdown",
      "source": [
        "Entrenamos el modelo Word2Vec"
      ],
      "metadata": {
        "id": "tLk1gLDk7xms"
      }
    },
    {
      "cell_type": "code",
      "source": [
        "# Averiguo el número de núcleos disponibles en mi máquina para asignarlo en workers\n",
        "print(multiprocessing.cpu_count())"
      ],
      "metadata": {
        "colab": {
          "base_uri": "https://localhost:8080/"
        },
        "id": "fFz7q8-JcTYr",
        "outputId": "74d7b31f-2fef-4579-9683-a98b9833056e"
      },
      "execution_count": 7,
      "outputs": [
        {
          "output_type": "stream",
          "name": "stdout",
          "text": [
            "2\n"
          ]
        }
      ]
    },
    {
      "cell_type": "code",
      "source": [
        "# Creamos y entrenamos el modelo Word2Vec (Skipgram)\n",
        "w2v_model = Word2Vec(\n",
        "    sentences=sentence_tokens,\n",
        "    vector_size=300,\n",
        "    window=5,\n",
        "    min_count=5,\n",
        "    workers=2,  # Es el valor obtenido en el comando anterior\n",
        "    sg=1,  # Skip-gram\n",
        "    epochs=20,\n",
        "    compute_loss=True\n",
        ")\n",
        "# Guardamos el modelo\n",
        "w2v_model.save(\"word2vec_20newsgroups.model\")"
      ],
      "metadata": {
        "id": "Z4I3Q12Q739X"
      },
      "execution_count": 8,
      "outputs": []
    },
    {
      "cell_type": "markdown",
      "source": [
        "Probamos términos de interes"
      ],
      "metadata": {
        "id": "Ug66OlYaAmh1"
      }
    },
    {
      "cell_type": "code",
      "source": [
        "# Palabras más similares a 'computer'\n",
        "print(w2v_model.wv.most_similar(positive=[\"computer\"], topn=10))\n",
        "\n",
        "# Palabras más similares a 'love'\n",
        "print(w2v_model.wv.most_similar(positive=[\"love\"], topn=10))\n",
        "\n",
        "# Probamos con una palabra que no esté en el vocabulario definido\n",
        "try:\n",
        "    print(w2v_model.wv.most_similar(positive=[\"nonexistentword\"], topn=10))\n",
        "except KeyError as e:\n",
        "    print(e)"
      ],
      "metadata": {
        "colab": {
          "base_uri": "https://localhost:8080/"
        },
        "id": "mY7kqRTsAtAR",
        "outputId": "44501456-97fb-41ba-fafc-4b9f4245d2fd"
      },
      "execution_count": 9,
      "outputs": [
        {
          "output_type": "stream",
          "name": "stdout",
          "text": [
            "[('science', 0.5469357371330261), ('umea', 0.43562185764312744), ('itti', 0.41718971729278564), ('rootstown', 0.4047037661075592), ('523296', 0.4039481580257416), ('vpi', 0.4024342894554138), ('u23590', 0.39865538477897644), ('engineering', 0.3978457748889923), ('jstmp', 0.39059269428253174), ('totowa', 0.3895168602466583)]\n",
            "[('undying', 0.44323551654815674), ('salesmen', 0.43855565786361694), (\"'56\", 0.4379690885543823), ('learner', 0.4377578794956207), ('scots', 0.4301436245441437), ('yankovic', 0.4263051152229309), ('diety', 0.42525503039360046), ('gaelic', 0.4226386845111847), ('motherly', 0.4172956049442291), ('metaphors', 0.4166799485683441)]\n",
            "\"Key 'nonexistentword' not present in vocabulary\"\n"
          ]
        }
      ]
    },
    {
      "cell_type": "markdown",
      "source": [
        "**Comentario**\n",
        "\n",
        "El modelo Word2Vec encuentra palabras similares a computer y love en el espacio de embedding. las palabras relacionadas con tecnología e informática están vinculadas a computer , mientras que las palabras relacionadas con sentimiento y emoción están vinculadas a love.\n",
        "\n",
        "Por último,El modelo no puede encontrar palabras similares a una palabra desconocida"
      ],
      "metadata": {
        "id": "MIfL8oZumF0A"
      }
    },
    {
      "cell_type": "markdown",
      "source": [
        "Pruebas de analogías"
      ],
      "metadata": {
        "id": "_re9_dS_A0jf"
      }
    },
    {
      "cell_type": "code",
      "source": [
        "# Probamos una analogía: 'king' - 'man' + 'woman' = ?\n",
        "print(w2v_model.wv.most_similar(positive=['woman', 'king'], negative=['man'], topn=1))\n",
        "# Otra analogía: 'paris' - 'france' + 'germany' = ?\n",
        "print(w2v_model.wv.most_similar(positive=['paris', 'germany'], negative=['france'], topn=1))"
      ],
      "metadata": {
        "colab": {
          "base_uri": "https://localhost:8080/"
        },
        "id": "VGW4ex0dA54x",
        "outputId": "4676e65b-11d6-41e0-e93e-e32acc4644bf"
      },
      "execution_count": 10,
      "outputs": [
        {
          "output_type": "stream",
          "name": "stdout",
          "text": [
            "[('sysops', 0.3362012505531311)]\n",
            "[('braunschweig', 0.37718236446380615)]\n"
          ]
        }
      ]
    },
    {
      "cell_type": "markdown",
      "source": [
        "**Comentario**\n",
        "\n",
        "Se realizaron pruebas de analogías con el modelo Word2Vec. la analogía 'king' - 'man' + 'woman' produjo \"sysops\" con una similitud de 0.3362.\n",
        "la analogía 'paris' - 'france' + 'germany' produjo \"braunschweig\" con una similitud de 0.3771.\n",
        "\n",
        "Los resultados muestran la capacidad del modelo para realizar analogías complejas."
      ],
      "metadata": {
        "id": "ugCmUciHoD5r"
      }
    },
    {
      "cell_type": "markdown",
      "source": [
        "Reducimos dimensionalidad y probamos embeddings"
      ],
      "metadata": {
        "id": "YRxJawgjBB7l"
      }
    },
    {
      "cell_type": "code",
      "source": [
        "def reduce_dimensions(model, num_dimensions=2):\n",
        "    vectors = np.asarray(model.wv.vectors)\n",
        "    labels = np.asarray(model.wv.index_to_key)\n",
        "\n",
        "    if num_dimensions == 2:\n",
        "        tsne = TSNE(n_components=2, random_state=0)\n",
        "        vectors = tsne.fit_transform(vectors)\n",
        "    elif num_dimensions == 3:\n",
        "        tsne = TSNE(n_components=3, random_state=0)\n",
        "        vectors = tsne.fit_transform(vectors)\n",
        "\n",
        "    return vectors, labels"
      ],
      "metadata": {
        "id": "c_Tp3ithBJaN"
      },
      "execution_count": 11,
      "outputs": []
    },
    {
      "cell_type": "code",
      "source": [
        "# Reducimos las dimensiones a 2D\n",
        "vecs, labels = reduce_dimensions(w2v_model)\n",
        "\n",
        "# Definimos el tamaño del texto y los puntos y visualizamos el gráfico\n",
        "MAX_WORDS = 200\n",
        "fig = px.scatter(x=vecs[:MAX_WORDS, 0], y=vecs[:MAX_WORDS, 1], text=labels[:MAX_WORDS])\n",
        "\n",
        "# Agregamos colores y ajuste de tamaño de los puntos y texto\n",
        "fig.update_traces(marker=dict(size=8, color=\"blue\"), textposition=\"top center\")\n",
        "fig.update_layout(title=\"Word2Vec Embeddings for 20 Newsgroups Dataset\",\n",
        "                  xaxis_title=\"Dimension 1\", yaxis_title=\"Dimension 2\",\n",
        "                  font=dict(size=12))\n",
        "fig.show()"
      ],
      "metadata": {
        "colab": {
          "base_uri": "https://localhost:8080/",
          "height": 542
        },
        "id": "Ri4YY1bJazIf",
        "outputId": "2365859b-cd09-4e64-d599-a565c2f2af9e"
      },
      "execution_count": 12,
      "outputs": [
        {
          "output_type": "display_data",
          "data": {
            "text/html": [
              "<html>\n",
              "<head><meta charset=\"utf-8\" /></head>\n",
              "<body>\n",
              "    <div>            <script src=\"https://cdnjs.cloudflare.com/ajax/libs/mathjax/2.7.5/MathJax.js?config=TeX-AMS-MML_SVG\"></script><script type=\"text/javascript\">if (window.MathJax && window.MathJax.Hub && window.MathJax.Hub.Config) {window.MathJax.Hub.Config({SVG: {font: \"STIX-Web\"}});}</script>                <script type=\"text/javascript\">window.PlotlyConfig = {MathJaxConfig: 'local'};</script>\n",
              "        <script charset=\"utf-8\" src=\"https://cdn.plot.ly/plotly-2.24.1.min.js\"></script>                <div id=\"091f93c7-f39d-4bb6-af08-7211ed42b7e9\" class=\"plotly-graph-div\" style=\"height:525px; width:100%;\"></div>            <script type=\"text/javascript\">                                    window.PLOTLYENV=window.PLOTLYENV || {};                                    if (document.getElementById(\"091f93c7-f39d-4bb6-af08-7211ed42b7e9\")) {                    Plotly.newPlot(                        \"091f93c7-f39d-4bb6-af08-7211ed42b7e9\",                        [{\"hovertemplate\":\"x=%{x}\\u003cbr\\u003ey=%{y}\\u003cbr\\u003etext=%{text}\\u003cextra\\u003e\\u003c\\u002fextra\\u003e\",\"legendgroup\":\"\",\"marker\":{\"color\":\"blue\",\"symbol\":\"circle\",\"size\":8},\"mode\":\"markers+text\",\"name\":\"\",\"orientation\":\"v\",\"showlegend\":false,\"text\":[\"the\",\"to\",\"of\",\"a\",\"and\",\"in\",\"i\",\"is\",\"that\",\"'ax\",\"it\",\"for\",\"you\",\"from\",\"edu\",\"on\",\"this\",\"be\",\"not\",\"are\",\"have\",\"with\",\"as\",\"or\",\"1\",\"was\",\"if\",\"but\",\"subject\",\"they\",\"com\",\"lines\",\"organization\",\"at\",\"by\",\"2\",\"an\",\"my\",\"can\",\"what\",\"all\",\"would\",\"will\",\"there\",\"0\",\"one\",\"do\",\"3\",\"re\",\"about\",\"x\",\"writes\",\"we\",\"so\",\"no\",\"he\",\"your\",\"article\",\"m\",\"has\",\"any\",\"me\",\"some\",\"who\",\"'\",\"out\",\"which\",\"more\",\"like\",\"don't\",\"4\",\"university\",\"when\",\"just\",\"people\",\"were\",\"posting\",\"their\",\"up\",\"5\",\"know\",\"how\",\"other\",\"host\",\"get\",\"only\",\"them\",\"nntp\",\"had\",\"than\",\"been\",\"think\",\"his\",\"s\",\"c\",\"7\",\"also\",\"q\",\"p\",\"r\",\"does\",\"6\",\"time\",\"8\",\"use\",\"w\",\"then\",\"new\",\"e\",\"it's\",\"i'm\",\"these\",\"o\",\"good\",\"should\",\"could\",\"g\",\"well\",\"ca\",\"may\",\"d\",\"am\",\"because\",\"us\",\"now\",\"u\",\"even\",\"9\",\"b\",\"why\",\"see\",\"very\",\"into\",\"way\",\"cs\",\"two\",\"those\",\"max\",\"first\",\"much\",\"n\",\"make\",\"many\",\"t\",\"most\",\"system\",\"distribution\",\"say\",\"right\",\"such\",\"world\",\"god\",\"did\",\"where\",\"our\",\"v\",\"want\",\"anyone\",\"10\",\"here\",\"go\",\"after\",\"used\",\"over\",\"its\",\"reply\",\"being\",\"said\",\"same\",\"l\",\"need\",\"h\",\"work\",\"state\",\"too\",\"really\",\"k\",\"please\",\"problem\",\"something\",\"computer\",\"j\",\"him\",\"z\",\"since\",\"windows\",\"believe\",\"mail\",\"off\",\"back\",\"still\",\"f\",\"i've\",\"going\",\"file\",\"help\",\"information\",\"find\",\"before\",\"take\"],\"x\":[-5.362720489501953,-1.831441044807434,-5.438284873962402,-4.616845607757568,-5.1411261558532715,1.4992480278015137,2.6719915866851807,-7.568552494049072,-3.3666651248931885,-29.468900680541992,-3.0989603996276855,-5.125884056091309,3.0482423305511475,18.370105743408203,38.6041259765625,-5.101980686187744,-3.5589098930358887,-7.116198539733887,-3.5508580207824707,-7.144824504852295,0.9895121455192566,-5.1272759437561035,-4.717640399932861,-4.535336494445801,-31.047645568847656,12.126266479492188,-24.665695190429688,-3.241285800933838,29.280046463012695,2.591681957244873,15.06338882446289,31.539997100830078,28.227169036865234,-5.233270168304443,-5.886026382446289,-31.054609298706055,-23.680570602416992,2.3861982822418213,-1.136560082435608,-3.3656997680664062,-5.293954849243164,-0.7000266313552856,-1.7309119701385498,-6.820559024810791,48.77381134033203,-4.914266586303711,3.8208234310150146,-31.057697296142578,29.273136138916016,1.5896097421646118,-62.80638122558594,39.21403121948242,2.7703945636749268,-3.174008846282959,-9.231837272644043,31.29369354248047,2.931340456008911,37.26883316040039,-39.95956802368164,0.5656120181083679,-5.315169334411621,1.8800714015960693,-4.33893346786499,-19.372297286987305,-28.75859832763672,-5.347373962402344,-3.551417589187622,-14.261900901794434,2.6999433040618896,4.454975605010986,-29.35293197631836,11.069792747497559,-3.685075283050537,-2.6309351921081543,-2.826756715774536,12.730108261108398,41.00986099243164,-5.393832683563232,6.440159320831299,-31.65912437438965,3.8703770637512207,-1.1314903497695923,-5.691328048706055,41.010528564453125,5.34743595123291,-39.622100830078125,-3.530270576477051,41.00952911376953,1.017526388168335,-14.277523040771484,16.440261840820312,4.482759952545166,31.323673248291016,-33.94607162475586,-63.411678314208984,-36.55057144165039,-4.06688928604126,-37.2285041809082,-32.82289123535156,-49.82400894165039,-8.251251220703125,-31.67405891418457,-26.44403076171875,-30.326438903808594,-33.962100982666016,-30.01891326904297,-3.6042206287384033,15.010951042175293,-21.56262969970703,-3.330004930496216,4.053768157958984,-6.2581400871276855,-31.661767959594727,3.1921777725219727,-1.9315516948699951,-1.0819886922836304,-49.99858093261719,0.9795033931732178,24.329755783081055,-17.61446762084961,-63.02445602416992,4.097837448120117,-3.27077579498291,24.722423553466797,-4.381016254425049,-33.92221450805664,-3.9144914150238037,-30.332504272460938,-33.564857482910156,-2.905080795288086,-5.132242202758789,-2.0790510177612305,-15.203710556030273,-1.391150951385498,41.890235900878906,40.1729621887207,-5.592284202575684,-29.411924362182617,26.753751754760742,-3.1750669479370117,-31.016094207763672,2.8958046436309814,-6.56918478012085,-30.07305908203125,-4.615494251251221,-38.73199462890625,26.851634979248047,-12.549630165100098,42.33580017089844,-4.654542922973633,20.599943161010742,14.204818725585938,11.258285522460938,-7.7732415199279785,-17.58506202697754,-31.03307342529297,3.44932222366333,10.736929893493652,-12.492505073547363,-3.3489630222320557,5.3945722579956055,24.611679077148438,-18.258535385131836,-5.199217319488525,-5.436844825744629,26.495426177978516,-6.61491584777832,12.305331230163574,-4.547794818878174,-41.288482666015625,-17.315319061279297,-49.21065902709961,-23.047500610351562,32.27086639404297,-0.38478559255599976,-2.6849000453948975,-31.497264862060547,8.750397682189941,-42.874603271484375,-3.0245683193206787,-7.963135719299316,-29.781583786010742,31.064512252807617,-36.70822525024414,-25.043371200561523,-44.152252197265625,2.883070707321167,-21.466983795166016,-3.390228748321533,5.594931125640869,-25.216787338256836,-47.6314697265625,1.341511845588684,3.839167594909668,-55.47730255126953,7.588594913482666,-20.546049118041992,-10.65981674194336,1.2552350759506226,0.2983108460903168],\"xaxis\":\"x\",\"y\":[31.229942321777344,30.174686431884766,30.842836380004883,30.596206665039062,30.014434814453125,19.809810638427734,28.49771499633789,30.21645164489746,31.562490463256836,-72.92618560791016,29.40804100036621,30.04596710205078,29.128952026367188,-6.589651107788086,-34.82433319091797,30.176319122314453,30.581859588623047,30.513961791992188,32.49319839477539,29.668018341064453,27.551715850830078,29.979042053222656,30.901641845703125,29.827329635620117,-25.924442291259766,28.818281173706055,62.86752700805664,31.0532169342041,-18.95965576171875,29.166261672973633,-36.375064849853516,-37.3148307800293,-17.201555252075195,27.55968475341797,30.50229263305664,-25.938674926757812,57.7180290222168,28.412229537963867,30.050188064575195,31.962852478027344,30.414257049560547,30.145631790161133,29.492395401000977,29.345327377319336,-0.9123044013977051,31.353416442871094,30.329551696777344,-25.972267150878906,-18.95166015625,33.99843978881836,10.754286766052246,-46.430091857910156,28.958175659179688,29.333345413208008,33.9761962890625,22.950838088989258,29.137439727783203,-47.924251556396484,-47.036746978759766,27.54113006591797,31.386503219604492,26.846250534057617,28.385183334350586,48.76740264892578,-71.31839752197266,31.02150535583496,31.383790969848633,35.62207794189453,23.34122657775879,30.124635696411133,-31.67923927307129,-10.977214813232422,31.325958251953125,29.20090675354004,37.40303421020508,32.90386199951172,-67.41687774658203,31.5971736907959,20.437599182128906,-28.714614868164062,26.706607818603516,17.937774658203125,30.462459564208984,-67.41732025146484,18.29226303100586,49.29038619995117,29.339815139770508,-67.41806030273438,27.521696090698242,35.61292266845703,36.986541748046875,30.490507125854492,23.011573791503906,-58.860328674316406,-26.511505126953125,-67.65540313720703,30.75027847290039,-67.9242935180664,-33.932369232177734,-50.854217529296875,29.69183349609375,-28.704666137695312,62.3431282043457,-37.45743942260742,23.920085906982422,-60.555179595947266,30.830509185791016,-9.611434936523438,-44.493919372558594,29.118728637695312,1.1103609800338745,30.002452850341797,-48.33098602294922,1.501394510269165,30.542835235595703,30.06583595275879,-50.760093688964844,20.67033576965332,-56.406227111816406,43.85560989379883,-26.742961883544922,1.1327297687530518,31.441072463989258,-12.731103897094727,29.606372833251953,-58.885162353515625,31.193490982055664,-37.47489929199219,-50.015052795410156,28.296146392822266,31.675018310546875,27.126964569091797,21.7176456451416,31.762832641601562,-30.404882431030273,27.512962341308594,31.612150192260742,-72.76115417480469,16.80532455444336,27.13361167907715,-45.618309020996094,42.59175491333008,33.946144104003906,-59.33146667480469,33.999385833740234,12.573838233947754,-41.55647659301758,66.8599624633789,22.983190536499023,31.369565963745117,-19.613445281982422,63.7785758972168,31.483884811401367,27.80068016052246,69.64433288574219,-15.58206558227539,29.450305938720703,2.96433424949646,-18.13054847717285,30.470592498779297,29.88913917541504,17.457727432250977,23.373933792114258,30.677553176879883,31.356128692626953,-42.61091995239258,31.004562377929688,30.642417907714844,31.179832458496094,-49.0807991027832,-2.8484158515930176,-33.34965133666992,31.39653778076172,-43.42116165161133,31.18222427368164,29.514549255371094,-52.060218811035156,1.8234368562698364,45.856422424316406,29.64151954650879,-48.74007034301758,-38.785545349121094,23.092334747314453,-52.424407958984375,62.0726318359375,2.7723498344421387,43.37567901611328,-44.57275390625,16.26740264892578,24.802431106567383,58.362884521484375,-46.680599212646484,27.94149398803711,24.1801815032959,12.62405014038086,0.35715413093566895,-10.759283065795898,35.113548278808594,22.116090774536133,36.91033935546875],\"yaxis\":\"y\",\"type\":\"scatter\",\"textposition\":\"top center\"}],                        {\"template\":{\"data\":{\"histogram2dcontour\":[{\"type\":\"histogram2dcontour\",\"colorbar\":{\"outlinewidth\":0,\"ticks\":\"\"},\"colorscale\":[[0.0,\"#0d0887\"],[0.1111111111111111,\"#46039f\"],[0.2222222222222222,\"#7201a8\"],[0.3333333333333333,\"#9c179e\"],[0.4444444444444444,\"#bd3786\"],[0.5555555555555556,\"#d8576b\"],[0.6666666666666666,\"#ed7953\"],[0.7777777777777778,\"#fb9f3a\"],[0.8888888888888888,\"#fdca26\"],[1.0,\"#f0f921\"]]}],\"choropleth\":[{\"type\":\"choropleth\",\"colorbar\":{\"outlinewidth\":0,\"ticks\":\"\"}}],\"histogram2d\":[{\"type\":\"histogram2d\",\"colorbar\":{\"outlinewidth\":0,\"ticks\":\"\"},\"colorscale\":[[0.0,\"#0d0887\"],[0.1111111111111111,\"#46039f\"],[0.2222222222222222,\"#7201a8\"],[0.3333333333333333,\"#9c179e\"],[0.4444444444444444,\"#bd3786\"],[0.5555555555555556,\"#d8576b\"],[0.6666666666666666,\"#ed7953\"],[0.7777777777777778,\"#fb9f3a\"],[0.8888888888888888,\"#fdca26\"],[1.0,\"#f0f921\"]]}],\"heatmap\":[{\"type\":\"heatmap\",\"colorbar\":{\"outlinewidth\":0,\"ticks\":\"\"},\"colorscale\":[[0.0,\"#0d0887\"],[0.1111111111111111,\"#46039f\"],[0.2222222222222222,\"#7201a8\"],[0.3333333333333333,\"#9c179e\"],[0.4444444444444444,\"#bd3786\"],[0.5555555555555556,\"#d8576b\"],[0.6666666666666666,\"#ed7953\"],[0.7777777777777778,\"#fb9f3a\"],[0.8888888888888888,\"#fdca26\"],[1.0,\"#f0f921\"]]}],\"heatmapgl\":[{\"type\":\"heatmapgl\",\"colorbar\":{\"outlinewidth\":0,\"ticks\":\"\"},\"colorscale\":[[0.0,\"#0d0887\"],[0.1111111111111111,\"#46039f\"],[0.2222222222222222,\"#7201a8\"],[0.3333333333333333,\"#9c179e\"],[0.4444444444444444,\"#bd3786\"],[0.5555555555555556,\"#d8576b\"],[0.6666666666666666,\"#ed7953\"],[0.7777777777777778,\"#fb9f3a\"],[0.8888888888888888,\"#fdca26\"],[1.0,\"#f0f921\"]]}],\"contourcarpet\":[{\"type\":\"contourcarpet\",\"colorbar\":{\"outlinewidth\":0,\"ticks\":\"\"}}],\"contour\":[{\"type\":\"contour\",\"colorbar\":{\"outlinewidth\":0,\"ticks\":\"\"},\"colorscale\":[[0.0,\"#0d0887\"],[0.1111111111111111,\"#46039f\"],[0.2222222222222222,\"#7201a8\"],[0.3333333333333333,\"#9c179e\"],[0.4444444444444444,\"#bd3786\"],[0.5555555555555556,\"#d8576b\"],[0.6666666666666666,\"#ed7953\"],[0.7777777777777778,\"#fb9f3a\"],[0.8888888888888888,\"#fdca26\"],[1.0,\"#f0f921\"]]}],\"surface\":[{\"type\":\"surface\",\"colorbar\":{\"outlinewidth\":0,\"ticks\":\"\"},\"colorscale\":[[0.0,\"#0d0887\"],[0.1111111111111111,\"#46039f\"],[0.2222222222222222,\"#7201a8\"],[0.3333333333333333,\"#9c179e\"],[0.4444444444444444,\"#bd3786\"],[0.5555555555555556,\"#d8576b\"],[0.6666666666666666,\"#ed7953\"],[0.7777777777777778,\"#fb9f3a\"],[0.8888888888888888,\"#fdca26\"],[1.0,\"#f0f921\"]]}],\"mesh3d\":[{\"type\":\"mesh3d\",\"colorbar\":{\"outlinewidth\":0,\"ticks\":\"\"}}],\"scatter\":[{\"fillpattern\":{\"fillmode\":\"overlay\",\"size\":10,\"solidity\":0.2},\"type\":\"scatter\"}],\"parcoords\":[{\"type\":\"parcoords\",\"line\":{\"colorbar\":{\"outlinewidth\":0,\"ticks\":\"\"}}}],\"scatterpolargl\":[{\"type\":\"scatterpolargl\",\"marker\":{\"colorbar\":{\"outlinewidth\":0,\"ticks\":\"\"}}}],\"bar\":[{\"error_x\":{\"color\":\"#2a3f5f\"},\"error_y\":{\"color\":\"#2a3f5f\"},\"marker\":{\"line\":{\"color\":\"#E5ECF6\",\"width\":0.5},\"pattern\":{\"fillmode\":\"overlay\",\"size\":10,\"solidity\":0.2}},\"type\":\"bar\"}],\"scattergeo\":[{\"type\":\"scattergeo\",\"marker\":{\"colorbar\":{\"outlinewidth\":0,\"ticks\":\"\"}}}],\"scatterpolar\":[{\"type\":\"scatterpolar\",\"marker\":{\"colorbar\":{\"outlinewidth\":0,\"ticks\":\"\"}}}],\"histogram\":[{\"marker\":{\"pattern\":{\"fillmode\":\"overlay\",\"size\":10,\"solidity\":0.2}},\"type\":\"histogram\"}],\"scattergl\":[{\"type\":\"scattergl\",\"marker\":{\"colorbar\":{\"outlinewidth\":0,\"ticks\":\"\"}}}],\"scatter3d\":[{\"type\":\"scatter3d\",\"line\":{\"colorbar\":{\"outlinewidth\":0,\"ticks\":\"\"}},\"marker\":{\"colorbar\":{\"outlinewidth\":0,\"ticks\":\"\"}}}],\"scattermapbox\":[{\"type\":\"scattermapbox\",\"marker\":{\"colorbar\":{\"outlinewidth\":0,\"ticks\":\"\"}}}],\"scatterternary\":[{\"type\":\"scatterternary\",\"marker\":{\"colorbar\":{\"outlinewidth\":0,\"ticks\":\"\"}}}],\"scattercarpet\":[{\"type\":\"scattercarpet\",\"marker\":{\"colorbar\":{\"outlinewidth\":0,\"ticks\":\"\"}}}],\"carpet\":[{\"aaxis\":{\"endlinecolor\":\"#2a3f5f\",\"gridcolor\":\"white\",\"linecolor\":\"white\",\"minorgridcolor\":\"white\",\"startlinecolor\":\"#2a3f5f\"},\"baxis\":{\"endlinecolor\":\"#2a3f5f\",\"gridcolor\":\"white\",\"linecolor\":\"white\",\"minorgridcolor\":\"white\",\"startlinecolor\":\"#2a3f5f\"},\"type\":\"carpet\"}],\"table\":[{\"cells\":{\"fill\":{\"color\":\"#EBF0F8\"},\"line\":{\"color\":\"white\"}},\"header\":{\"fill\":{\"color\":\"#C8D4E3\"},\"line\":{\"color\":\"white\"}},\"type\":\"table\"}],\"barpolar\":[{\"marker\":{\"line\":{\"color\":\"#E5ECF6\",\"width\":0.5},\"pattern\":{\"fillmode\":\"overlay\",\"size\":10,\"solidity\":0.2}},\"type\":\"barpolar\"}],\"pie\":[{\"automargin\":true,\"type\":\"pie\"}]},\"layout\":{\"autotypenumbers\":\"strict\",\"colorway\":[\"#636efa\",\"#EF553B\",\"#00cc96\",\"#ab63fa\",\"#FFA15A\",\"#19d3f3\",\"#FF6692\",\"#B6E880\",\"#FF97FF\",\"#FECB52\"],\"font\":{\"color\":\"#2a3f5f\"},\"hovermode\":\"closest\",\"hoverlabel\":{\"align\":\"left\"},\"paper_bgcolor\":\"white\",\"plot_bgcolor\":\"#E5ECF6\",\"polar\":{\"bgcolor\":\"#E5ECF6\",\"angularaxis\":{\"gridcolor\":\"white\",\"linecolor\":\"white\",\"ticks\":\"\"},\"radialaxis\":{\"gridcolor\":\"white\",\"linecolor\":\"white\",\"ticks\":\"\"}},\"ternary\":{\"bgcolor\":\"#E5ECF6\",\"aaxis\":{\"gridcolor\":\"white\",\"linecolor\":\"white\",\"ticks\":\"\"},\"baxis\":{\"gridcolor\":\"white\",\"linecolor\":\"white\",\"ticks\":\"\"},\"caxis\":{\"gridcolor\":\"white\",\"linecolor\":\"white\",\"ticks\":\"\"}},\"coloraxis\":{\"colorbar\":{\"outlinewidth\":0,\"ticks\":\"\"}},\"colorscale\":{\"sequential\":[[0.0,\"#0d0887\"],[0.1111111111111111,\"#46039f\"],[0.2222222222222222,\"#7201a8\"],[0.3333333333333333,\"#9c179e\"],[0.4444444444444444,\"#bd3786\"],[0.5555555555555556,\"#d8576b\"],[0.6666666666666666,\"#ed7953\"],[0.7777777777777778,\"#fb9f3a\"],[0.8888888888888888,\"#fdca26\"],[1.0,\"#f0f921\"]],\"sequentialminus\":[[0.0,\"#0d0887\"],[0.1111111111111111,\"#46039f\"],[0.2222222222222222,\"#7201a8\"],[0.3333333333333333,\"#9c179e\"],[0.4444444444444444,\"#bd3786\"],[0.5555555555555556,\"#d8576b\"],[0.6666666666666666,\"#ed7953\"],[0.7777777777777778,\"#fb9f3a\"],[0.8888888888888888,\"#fdca26\"],[1.0,\"#f0f921\"]],\"diverging\":[[0,\"#8e0152\"],[0.1,\"#c51b7d\"],[0.2,\"#de77ae\"],[0.3,\"#f1b6da\"],[0.4,\"#fde0ef\"],[0.5,\"#f7f7f7\"],[0.6,\"#e6f5d0\"],[0.7,\"#b8e186\"],[0.8,\"#7fbc41\"],[0.9,\"#4d9221\"],[1,\"#276419\"]]},\"xaxis\":{\"gridcolor\":\"white\",\"linecolor\":\"white\",\"ticks\":\"\",\"title\":{\"standoff\":15},\"zerolinecolor\":\"white\",\"automargin\":true,\"zerolinewidth\":2},\"yaxis\":{\"gridcolor\":\"white\",\"linecolor\":\"white\",\"ticks\":\"\",\"title\":{\"standoff\":15},\"zerolinecolor\":\"white\",\"automargin\":true,\"zerolinewidth\":2},\"scene\":{\"xaxis\":{\"backgroundcolor\":\"#E5ECF6\",\"gridcolor\":\"white\",\"linecolor\":\"white\",\"showbackground\":true,\"ticks\":\"\",\"zerolinecolor\":\"white\",\"gridwidth\":2},\"yaxis\":{\"backgroundcolor\":\"#E5ECF6\",\"gridcolor\":\"white\",\"linecolor\":\"white\",\"showbackground\":true,\"ticks\":\"\",\"zerolinecolor\":\"white\",\"gridwidth\":2},\"zaxis\":{\"backgroundcolor\":\"#E5ECF6\",\"gridcolor\":\"white\",\"linecolor\":\"white\",\"showbackground\":true,\"ticks\":\"\",\"zerolinecolor\":\"white\",\"gridwidth\":2}},\"shapedefaults\":{\"line\":{\"color\":\"#2a3f5f\"}},\"annotationdefaults\":{\"arrowcolor\":\"#2a3f5f\",\"arrowhead\":0,\"arrowwidth\":1},\"geo\":{\"bgcolor\":\"white\",\"landcolor\":\"#E5ECF6\",\"subunitcolor\":\"white\",\"showland\":true,\"showlakes\":true,\"lakecolor\":\"white\"},\"title\":{\"x\":0.05},\"mapbox\":{\"style\":\"light\"}}},\"xaxis\":{\"anchor\":\"y\",\"domain\":[0.0,1.0],\"title\":{\"text\":\"Dimension 1\"}},\"yaxis\":{\"anchor\":\"x\",\"domain\":[0.0,1.0],\"title\":{\"text\":\"Dimension 2\"}},\"legend\":{\"tracegroupgap\":0},\"margin\":{\"t\":60},\"font\":{\"size\":12},\"title\":{\"text\":\"Word2Vec Embeddings for 20 Newsgroups Dataset\"}},                        {\"responsive\": true}                    ).then(function(){\n",
              "                            \n",
              "var gd = document.getElementById('091f93c7-f39d-4bb6-af08-7211ed42b7e9');\n",
              "var x = new MutationObserver(function (mutations, observer) {{\n",
              "        var display = window.getComputedStyle(gd).display;\n",
              "        if (!display || display === 'none') {{\n",
              "            console.log([gd, 'removed!']);\n",
              "            Plotly.purge(gd);\n",
              "            observer.disconnect();\n",
              "        }}\n",
              "}});\n",
              "\n",
              "// Listen for the removal of the full notebook cells\n",
              "var notebookContainer = gd.closest('#notebook-container');\n",
              "if (notebookContainer) {{\n",
              "    x.observe(notebookContainer, {childList: true});\n",
              "}}\n",
              "\n",
              "// Listen for the clearing of the current output cell\n",
              "var outputEl = gd.closest('.output');\n",
              "if (outputEl) {{\n",
              "    x.observe(outputEl, {childList: true});\n",
              "}}\n",
              "\n",
              "                        })                };                            </script>        </div>\n",
              "</body>\n",
              "</html>"
            ]
          },
          "metadata": {}
        }
      ]
    },
    {
      "cell_type": "markdown",
      "source": [
        "**Conclusión**\n",
        "\n",
        "El gráfico de embedding muestra agrupamientos semánticos claros, donde palabras relacionadas aparecen juntas, como por ejemplo \"people\", \"Who\", \"about\" en el centro, indicando que el modelo Word2Vec ha capturado bien las relaciones contextuales.\n",
        "\n",
        "Por otro lado, las palabras técnicas como \"computer\" y \"windows\" forman cluster específicos. Algunas palabras dispersas como \"god\" o \"tin\", podrian ser menos frecuentes o quizas tener significados mas específicos.\n",
        "\n",
        "En general, el modelo ha capturado adecuadamente las relaciones semánticas del corpus."
      ],
      "metadata": {
        "id": "gDb2jAeGrpvQ"
      }
    }
  ]
}